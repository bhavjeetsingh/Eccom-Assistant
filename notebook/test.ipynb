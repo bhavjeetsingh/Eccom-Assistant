{
 "cells": [
  {
   "cell_type": "code",
   "execution_count": 5,
   "id": "3dfbda20",
   "metadata": {},
   "outputs": [
    {
     "name": "stdout",
     "output_type": "stream",
     "text": [
      "ok\n"
     ]
    }
   ],
   "source": [
    "print('ok')"
   ]
  },
  {
   "cell_type": "code",
   "execution_count": 11,
   "id": "99fda22a",
   "metadata": {},
   "outputs": [
    {
     "ename": "NameError",
     "evalue": "name 'b64' is not defined",
     "output_type": "error",
     "traceback": [
      "\u001b[1;31m---------------------------------------------------------------------------\u001b[0m",
      "\u001b[1;31mNameError\u001b[0m                                 Traceback (most recent call last)",
      "Cell \u001b[1;32mIn[11], line 4\u001b[0m\n\u001b[0;32m      1\u001b[0m \u001b[38;5;28;01mimport\u001b[39;00m\u001b[38;5;250m \u001b[39m\u001b[38;5;21;01mbase64\u001b[39;00m\n\u001b[0;32m      2\u001b[0m \u001b[38;5;28;01mimport\u001b[39;00m\u001b[38;5;250m \u001b[39m\u001b[38;5;21;01mnumpy\u001b[39;00m\u001b[38;5;250m \u001b[39m\u001b[38;5;28;01mas\u001b[39;00m\u001b[38;5;250m \u001b[39m\u001b[38;5;21;01mnp\u001b[39;00m\n\u001b[1;32m----> 4\u001b[0m decoded \u001b[38;5;241m=\u001b[39m base64\u001b[38;5;241m.\u001b[39mb64decode(\u001b[43mb64\u001b[49m)\n\u001b[0;32m      5\u001b[0m vector \u001b[38;5;241m=\u001b[39m np\u001b[38;5;241m.\u001b[39mfrombuffer(decoded, dtype\u001b[38;5;241m=\u001b[39mnp\u001b[38;5;241m.\u001b[39mfloat32)\n\u001b[0;32m      6\u001b[0m \u001b[38;5;28mprint\u001b[39m(vector\u001b[38;5;241m.\u001b[39mtolist())\n",
      "\u001b[1;31mNameError\u001b[0m: name 'b64' is not defined"
     ]
    }
   ],
   "source": [
    "import base64\n",
    "import numpy as np\n",
    "\n",
    "decoded = base64.b64decode(b64)\n",
    "vector = np.frombuffer(decoded, dtype=np.float32)\n",
    "print(vector.tolist())"
   ]
  },
  {
   "cell_type": "code",
   "execution_count": 10,
   "id": "6fc310ab",
   "metadata": {},
   "outputs": [
    {
     "data": {
      "text/plain": [
       "{'_id': 'caa3acdac8f34a8981f8bb5679819fc0',\n",
       " 'content': '5 Great product Loved it READ MORE Aryan Kumar Certified Buyer , Ranchi 5 months ago 69 8 Permalink Report Abuse',\n",
       " '$vector': {'$binary': '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'},\n",
       " 'metadata': {'product_id': 'itm2b7be11cfadef',\n",
       "  'product_title': 'Apple iPhone 16 (Teal, 256 GB)',\n",
       "  'rating': 4.6,\n",
       "  'total_reviews': 793,\n",
       "  'price': '₹84,900'}}"
      ]
     },
     "execution_count": 10,
     "metadata": {},
     "output_type": "execute_result"
    }
   ],
   "source": [
    "{\"_id\":\"caa3acdac8f34a8981f8bb5679819fc0\",\"content\":\"5 Great product Loved it READ MORE Aryan Kumar Certified Buyer , Ranchi 5 months ago 69 8 Permalink Report Abuse\",\"$vector\":{\"$binary\":\"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\"},\"metadata\":{\"product_id\":\"itm2b7be11cfadef\",\"product_title\":\"Apple iPhone 16 (Teal, 256 GB)\",\"rating\":4.6,\"total_reviews\":793,\"price\":\"₹84,900\"}}"
   ]
  }
 ],
 "metadata": {
  "kernelspec": {
   "display_name": "eccom-assistant (3.10.18)",
   "language": "python",
   "name": "python3"
  },
  "language_info": {
   "codemirror_mode": {
    "name": "ipython",
    "version": 3
   },
   "file_extension": ".py",
   "mimetype": "text/x-python",
   "name": "python",
   "nbconvert_exporter": "python",
   "pygments_lexer": "ipython3",
   "version": "3.10.18"
  }
 },
 "nbformat": 4,
 "nbformat_minor": 5
}
